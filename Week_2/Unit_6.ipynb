{
 "cells": [
  {
   "cell_type": "markdown",
   "id": "93ff3fbc",
   "metadata": {},
   "source": [
    "### Example Section\t\n",
    "Just a copy paste of `contoh` in module"
   ]
  },
  {
   "cell_type": "code",
   "execution_count": 1,
   "id": "49abbd75",
   "metadata": {},
   "outputs": [
    {
     "name": "stdout",
     "output_type": "stream",
     "text": [
      "Masukkan nilai jari-jari : 7\n",
      "Luas dari lingakaran adalah : 153.93791\n"
     ]
    }
   ],
   "source": [
    "# Contoh 1\n",
    "\n",
    "# Mengukur luas lingkaran\n",
    "pi = 3.14159\n",
    "jari_jari = input(\"Masukkan nilai jari-jari : \")\n",
    "\n",
    "# Mengubah jari2 ke dalam float\n",
    "jari_jari = float(jari_jari)\n",
    "\n",
    "luas_lingkaran = pi * jari_jari * jari_jari\n",
    "print(f\"Luas dari lingakaran adalah : {luas_lingkaran}\")"
   ]
  },
  {
   "cell_type": "code",
   "execution_count": 2,
   "id": "7eebbe95",
   "metadata": {},
   "outputs": [],
   "source": [
    "# Expected Output\n",
    "# Masukkan nilai jari-jari : 7\n",
    "# Luas dari lingakaran adalah : 153.93791"
   ]
  },
  {
   "cell_type": "code",
   "execution_count": 4,
   "id": "170be42d",
   "metadata": {},
   "outputs": [
    {
     "name": "stdout",
     "output_type": "stream",
     "text": [
      "Nilai a : 1\n",
      "Nilai b : 2\n",
      "Nilai c : 3\n",
      "Nilai d : 4\n",
      "Jumlah Semua Bilangan :  10.0\n",
      "Kali Semua Bilangan :  24.0\n"
     ]
    }
   ],
   "source": [
    "# Contoh 2\n",
    "#MenghitungBilanganSederhana#\n",
    "\n",
    "a = float(input(\"Nilai a : \"))\n",
    "b = float(input(\"Nilai b : \"))\n",
    "c = float(input(\"Nilai c : \"))\n",
    "d = float(input(\"Nilai d : \"))\n",
    "jumlah= a+b+c+d\n",
    "kali= a*b*c*d\n",
    "\n",
    "print(\"Jumlah Semua Bilangan : \",jumlah)\n",
    "print(\"Kali Semua Bilangan : \",kali)"
   ]
  },
  {
   "cell_type": "code",
   "execution_count": 5,
   "id": "c86c3c3d",
   "metadata": {},
   "outputs": [],
   "source": [
    "# Expected output\n",
    "# Nilai a : 1\n",
    "# Nilai b : 2\n",
    "# Nilai c : 3\n",
    "# Nilai d : 4\n",
    "# Jumlah Semua Bilangan :  10.0\n",
    "# Kali Semua Bilangan :  24.0"
   ]
  },
  {
   "cell_type": "markdown",
   "id": "cb5261e6",
   "metadata": {},
   "source": [
    "### Practicum Assignment\t\n",
    "Answer of `tugas praktikum` in the module"
   ]
  },
  {
   "cell_type": "code",
   "execution_count": null,
   "id": "bfc8129d",
   "metadata": {},
   "outputs": [],
   "source": [
    "# Buatlah suatu program yang dapat menghitung Volume dari tabung \n",
    "# Dengan jari jari dan tinggi merupakan input dari pengguna\n",
    "# Dan teks yang menunjukkan \n",
    "# Isilah garus bawah yang kosong untuk membuat program bekerja\n",
    "\n",
    "pi = 3.14159\n",
    "tinggi = float(input(\"input value of tubes heigh : \")) # Take input as float\n",
    "jari_jari = float(input(\"input value of tubes radius : \")) \n",
    "\n",
    "# formula of tubes volume in mathematics is phi*r*r*t\n",
    "volume = pi*jari_jari*jari_jari*tinggi\n",
    "print(f\"Nilai dari volume adalah : {volume}\")\n"
   ]
  },
  {
   "cell_type": "code",
   "execution_count": 2,
   "id": "e28a7915",
   "metadata": {},
   "outputs": [
    {
     "name": "stdout",
     "output_type": "stream",
     "text": [
      "Name: John Doe\n",
      "ID number: 123456\n",
      "Major: Computer Science\n",
      "Place/Date of birth: New York, January 1st, 2000\n",
      "Address: 123, Main St, New York, NY 10001\n",
      "Email: johndoe@example.com\n",
      "Phone number: 555-1234\n",
      " \n",
      "Data Mahasiswa:\n",
      "Nama: John Doe\n",
      "NIM: 123456\n",
      "Jurusan: Computer Science\n",
      "TTL: New York, January 1st, 2000\n",
      "Alamat: 123, Main St, New York, NY 10001\n",
      "Email: johndoe@example.com\n",
      "Nomor Telefon: 555-1234\n"
     ]
    }
   ],
   "source": [
    "# Assume that input data must be stored in a variable\n",
    "name = input(\"Nama: \")\n",
    "id_num = input(\"NIM: \")\n",
    "major = input(\"Jurusan: \")\n",
    "birthplace_date = input(\"Tempat/Tanggal Lahir: \")\n",
    "address = input(\"Alamat Tempat Tinggal: \")\n",
    "email = input(\"Email: \")\n",
    "phone_number = input(\"Nomor Telefon: \")\n",
    "\n",
    "print(\" \")\n",
    "print(\"Data Mahasiswa:\")\n",
    "print(f\"Nama: {name}\")\n",
    "print(f\"NIM: {id_num}\")\n",
    "print(f\"Jurusan: {major}\")\n",
    "print(f\"Tempat/Tanggal Lahir: {birthplace_date}\")\n",
    "print(f\"Alamat Tempat Tinggal: {address}\")\n",
    "print(f\"Email: {email}\")\n",
    "print(f\"Nomor Telefon: {phone_number}\")\n",
    "\n",
    "# If they dont have to be stored in variable use this\n",
    "# input(\"Nama :\")\n",
    "# input(str(\"NIM :\"))\n",
    "# input(\"Jurusan :\")\n",
    "# input(\"Tempat/Tanggal Lahir :\")\n",
    "# input(\"Alamat Tempat Tinggal :\")\n",
    "# input(\"Email :\")\n",
    "# input(\"Nomor Telefon :\")"
   ]
  },
  {
   "cell_type": "code",
   "execution_count": 5,
   "id": "cd4236a2",
   "metadata": {},
   "outputs": [
    {
     "name": "stdout",
     "output_type": "stream",
     "text": [
      "Price List\n",
      "Ayam 1kg: Rp50000\n",
      "Tomat 1kg: Rp16000\n",
      "Wortel 1kg: Rp18000\n",
      "Timun 1/2kg: Rp6000\n",
      "Nugget: Rp25000\n",
      " \n",
      "Enter the number of items purchased in kg:\n",
      "Ayam: 2\n",
      "Tomat: 0.5\n",
      "Wortel: 3\n",
      "Timun: 1\n",
      "Nugget: 1\n",
      "Amount to pay: Rp199000\n"
     ]
    }
   ],
   "source": [
    "# Assign item price to variable\n",
    "Chicken_Price = 50000\n",
    "Tomato_Price = 16000\n",
    "Carrot_Price = 18000\n",
    "Cumcumber_Price = 12000 #Assume that all price for 1kg\n",
    "Nugget_Price = 25000\n",
    "\n",
    "print(\"Price List\")\n",
    "print(\"Ayam 1kg: Rp50000\")\n",
    "print(\"Tomat 1kg: Rp16000\")\n",
    "print(\"Wortel 1kg: Rp18000\")\n",
    "print(\"Timun 1/2kg: Rp6000\")\n",
    "print(\"Nugget: Rp25000\")\n",
    "print(\" \")\n",
    "\n",
    "# if you buy half kg please write 0.5 if you buy quarter please write 0.25\n",
    "print(\"Enter the number of items purchased in kg:\")\n",
    "Chicken = float(input(\"Ayam: \"))\n",
    "Tomato = float(input(\"Tomat: \"))\n",
    "Carrot = float(input(\"Wortel: \"))\n",
    "Cumcumber = float(input(\"Timun: \"))\n",
    "Nugget = float(input(\"Nugget: \"))\n",
    "\n",
    "Total = int((Chicken*Chicken_Price) + (Tomato*Tomato_Price) + (Carrot*Carrot_Price) + (Cumcumber*Cumcumber_Price) + (Nugget*Nugget_Price))\n",
    "print(f\"Amount to pay: Rp{Total}\")"
   ]
  }
 ],
 "metadata": {
  "kernelspec": {
   "display_name": "Python 3 (ipykernel)",
   "language": "python",
   "name": "python3"
  },
  "language_info": {
   "codemirror_mode": {
    "name": "ipython",
    "version": 3
   },
   "file_extension": ".py",
   "mimetype": "text/x-python",
   "name": "python",
   "nbconvert_exporter": "python",
   "pygments_lexer": "ipython3",
   "version": "3.9.13"
  }
 },
 "nbformat": 4,
 "nbformat_minor": 5
}
