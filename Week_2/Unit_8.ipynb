{
 "cells": [
  {
   "cell_type": "markdown",
   "id": "93ff3fbc",
   "metadata": {},
   "source": [
    "### Example Section\t\n",
    "Just a copy paste of `contoh` in module"
   ]
  },
  {
   "cell_type": "code",
   "execution_count": 1,
   "id": "49abbd75",
   "metadata": {},
   "outputs": [
    {
     "name": "stdout",
     "output_type": "stream",
     "text": [
      "Masukkan nilai awal = 1\n",
      "Masukkan nilai akhir = 5\n",
      "Nilai total dari sum adalah : 15\n"
     ]
    }
   ],
   "source": [
    "# Contoh 1\n",
    "\n",
    "nilai_awal = int(input('Masukkan nilai awal = '))\n",
    "nilai_akhir = int(input('Masukkan nilai akhir = '))\n",
    "\n",
    "sum = 0\n",
    "for i in range(nilai_awal, nilai_akhir+1) :\n",
    "  sum = i + sum\n",
    "print(f\"Nilai total dari sum adalah : {sum}\")"
   ]
  },
  {
   "cell_type": "code",
   "execution_count": 2,
   "id": "7eebbe95",
   "metadata": {},
   "outputs": [],
   "source": [
    "# Expected Output\n",
    "# Masukkan nilai awal = 1\n",
    "# Masukkan nilai akhir = 5\n",
    "# Nilai total dari sum adalah : 15"
   ]
  },
  {
   "cell_type": "code",
   "execution_count": null,
   "id": "170be42d",
   "metadata": {},
   "outputs": [],
   "source": [
    "# Contoh 2\n",
    "banyakMahasiswa = int(input('banyak mahasiswa: '))\n",
    "for M in range(banyakMahasiswa) :\n",
    "    print('Mahasiswa ke-',M+1)\n",
    "    banyakMK = int(input('banyak matakuliah yang diambil: '))\n",
    "    totalnilai=0\n",
    "    for N in range(banyakMK) :\n",
    "        nilai = int(input('input nilai ke %d :' %(N+1)))\n",
    "        totalnilai=totalnilai+nilai\n",
    "    rerata=totalnilai/banyakMK\n",
    "    print('rata-rata : ',rerata)"
   ]
  },
  {
   "cell_type": "code",
   "execution_count": 5,
   "id": "c86c3c3d",
   "metadata": {},
   "outputs": [
    {
     "name": "stdout",
     "output_type": "stream",
     "text": [
      "Masukkan nilai permutasi : 5\n",
      "Permutasi dari 5! : 120\n"
     ]
    }
   ],
   "source": [
    "# Contoh 3\n",
    "permutasi = int(input(\"Masukkan nilai permutasi : \"))\n",
    "i = 1\n",
    "hasil = 1\n",
    "while i  < permutasi + 1:\n",
    "  hasil = hasil * i\n",
    "  i = i + 1\n",
    "\n",
    "print(f\"Permutasi dari {permutasi}! : {hasil}\")"
   ]
  },
  {
   "cell_type": "code",
   "execution_count": null,
   "id": "3d856f6b",
   "metadata": {},
   "outputs": [],
   "source": [
    "# Expected output\n",
    "# Masukkan nilai permutasi : 5\n",
    "# Permutasi dari 5! : 120"
   ]
  },
  {
   "cell_type": "markdown",
   "id": "cb5261e6",
   "metadata": {},
   "source": [
    "### Practicum Assignment\t\n",
    "Answer of `tugas praktikum` in the module"
   ]
  },
  {
   "cell_type": "code",
   "execution_count": 8,
   "id": "bfc8129d",
   "metadata": {},
   "outputs": [
    {
     "name": "stdout",
     "output_type": "stream",
     "text": [
      "Masukkan nilai a : 0\n",
      "Masukkan nilai b: 5\n",
      "Masukkan nilai n : 3\n",
      " Nilai Un adalah : 10\n"
     ]
    }
   ],
   "source": [
    "# Menghitung jumlah dari barisan aritmatik ( Un )\n",
    "# Nilai a (nilai awal), b (beda) dan n (nilai ke-n) dari input pengguna\n",
    "\n",
    "a = int(input(\"Masukkan nilai a : \"))\n",
    "b = int(input(\"Masukkan nilai b: \"))\n",
    "n = int(input(\"Masukkan nilai n : \"))\n",
    "\n",
    "for i in range(n+1):\n",
    "    # Rumus dari Un aritmatika adalah Un = a + b(n-1)\n",
    "    Un = a + b*(i-1)\n",
    "    i = i + 1\n",
    "\n",
    "print(f\" Nilai Un adalah : {Un}\")"
   ]
  },
  {
   "cell_type": "markdown",
   "id": "288f86ed",
   "metadata": {},
   "source": [
    "**Soal 1**\n",
    "\n",
    "Buatlah program yang menampilkan dari bilangan tertentu sampai bilangan tertentu dan menghitung banyaknya bilangan serta menghitung penjumlahan dari seluruh bilangan yang ada.\n",
    "\n",
    "Note: user dapat memasukkan input berupa nilai awal dan nilai akhir yang berupa bilangan riil, kemudian program akan mengoperasikan dua bilangan tersebut dan menghitung penjumlahan dari seluruh bilangan yang ada."
   ]
  },
  {
   "cell_type": "code",
   "execution_count": 15,
   "id": "e28a7915",
   "metadata": {},
   "outputs": [
    {
     "name": "stdout",
     "output_type": "stream",
     "text": [
      "Masukkan nilai awal = 5\n",
      "Masukkan nilai akhir = 10\n",
      "5 6 7 8 9 10  \n",
      "Nilai total dari sum adalah : 45\n"
     ]
    }
   ],
   "source": [
    "nilai_awal = int(input('Masukkan nilai awal = '))\n",
    "nilai_akhir = int(input('Masukkan nilai akhir = '))\n",
    "\n",
    "sum = 0\n",
    "for i in range(nilai_awal, nilai_akhir+1) :\n",
    "\tprint(i, sep=' ', end=' ')\n",
    "\tsum = i + sum\n",
    "print(\" \")\n",
    "print(f\"Nilai total dari sum adalah : {sum}\")"
   ]
  },
  {
   "cell_type": "markdown",
   "id": "3457e897",
   "metadata": {},
   "source": [
    "**Soal 2**\n",
    "\n",
    "Buatlah program yang menampilkan penjumlahan matrix A dan matrix B"
   ]
  },
  {
   "cell_type": "code",
   "execution_count": 24,
   "id": "bd0c69ec",
   "metadata": {},
   "outputs": [
    {
     "name": "stdout",
     "output_type": "stream",
     "text": [
      "[39, 21]\n",
      "[33, 33]\n"
     ]
    }
   ],
   "source": [
    "# Define two matrices\n",
    "matrixA = [[8, 8], \n",
    "           [12, 21]]\n",
    "matrixB = [[31, 13], \n",
    "           [21, 12]]\n",
    "\n",
    "# Create a new matrix to hold the result\n",
    "result = [[0, 0], [0, 0]]\n",
    "\n",
    "# Iterate through the rows\n",
    "for i in range(len(matrixA)):\n",
    "    # Iterate through the columns\n",
    "    for j in range(len(matrixA[0])):\n",
    "        # Add the corresponding elements of the two matrices\n",
    "        result[i][j] = matrixA[i][j] + matrixB[i][j]\n",
    "\n",
    "# Print the result\n",
    "for row in result:\n",
    "    print(row)\n"
   ]
  },
  {
   "cell_type": "markdown",
   "id": "2e1bc309",
   "metadata": {},
   "source": [
    "**Soal 3**\n",
    "\n",
    "Ammar adalah seorang mahasiswa Teknik Elektro UPN “Veteran” Jakarta yang kost di\n",
    "sekitar wilayah UPNVJ Limo. Karena sering kali kehabisan uang di tanggal muda padahal\n",
    "baru saja diberikan uang bulanan oleh orang tuanya, dia berinisiatif untuk membuat sebuah\n",
    "program yang dapat menghitung keuangannya setelah mengeluarkan beberapa uang untuk\n",
    "pengeluaran sehari – harinya.\n",
    "\n",
    "Note: User dapat menginput besaran pengeluaran berkali –\n",
    "kali dan dapat memasukkan input untuk keluar dan melihat besaran sisa saldo dan jika\n",
    "pengeluaran lebih besar daripada saldo awal, output yang keluar “Saldo tidak cukup”."
   ]
  },
  {
   "cell_type": "code",
   "execution_count": 4,
   "id": "4e3a222e",
   "metadata": {},
   "outputs": [
    {
     "name": "stdout",
     "output_type": "stream",
     "text": [
      "Jumlah saldo awal: 10000\n",
      "Pengeluaran ke-1: 5000\n",
      "Sisa saldo: 5000\n",
      "\n",
      "Pengeluaran ke-2: 2500\n",
      "Sisa saldo: 2500\n",
      "\n",
      "Pengeluaran ke-3: 1000\n",
      "Sisa saldo: 1500\n",
      "\n",
      "Pengeluaran ke-4: 500\n",
      "Sisa saldo: 1000\n",
      "\n",
      "Pengeluaran ke-5: 1500\n",
      "Saldo tidak cukup\n"
     ]
    }
   ],
   "source": [
    "balance = int(input(\"Jumlah saldo awal: \"))\n",
    "i = 1\n",
    "\n",
    "while balance > 0:\n",
    "    expense = int(input(f\"Pengeluaran ke-{i}: \"))\n",
    "    remain = balance - expense\n",
    "    if remain < 0:\n",
    "        print(\"Saldo tidak cukup\")\n",
    "        break\n",
    "    print(f\"Sisa saldo: {remain}\")\n",
    "    print(\"\")\n",
    "    balance = remain\n",
    "    i += 1"
   ]
  }
 ],
 "metadata": {
  "kernelspec": {
   "display_name": "Python 3 (ipykernel)",
   "language": "python",
   "name": "python3"
  },
  "language_info": {
   "codemirror_mode": {
    "name": "ipython",
    "version": 3
   },
   "file_extension": ".py",
   "mimetype": "text/x-python",
   "name": "python",
   "nbconvert_exporter": "python",
   "pygments_lexer": "ipython3",
   "version": "3.9.13"
  }
 },
 "nbformat": 4,
 "nbformat_minor": 5
}
