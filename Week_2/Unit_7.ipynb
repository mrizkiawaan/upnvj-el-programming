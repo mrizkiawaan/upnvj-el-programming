{
 "cells": [
  {
   "cell_type": "markdown",
   "id": "93ff3fbc",
   "metadata": {},
   "source": [
    "### Example Section\t\n",
    "Just a copy paste of `contoh` in module"
   ]
  },
  {
   "cell_type": "code",
   "execution_count": 3,
   "id": "49abbd75",
   "metadata": {},
   "outputs": [
    {
     "name": "stdout",
     "output_type": "stream",
     "text": [
      "Masukan nilai anda : 50\n",
      "Anda Mengulang Mata Kuliah\n"
     ]
    }
   ],
   "source": [
    "# Contoh 1\n",
    "\n",
    "nilai=float(input(\"Masukan nilai anda : \"))\n",
    "if (nilai < 75) and (nilai > 65):\n",
    "  print(\"Mendapat nilai B\") \n",
    " \n",
    "elif (nilai > 75 ) and (nilai <80):\n",
    "  print(\"Mendapat nilai A-\")\n",
    "elif(nilai >80 ):\n",
    "  print(\"Mendapat nilai A\")\n",
    "else:\n",
    "  print(\"Anda Mengulang Mata Kuliah\")"
   ]
  },
  {
   "cell_type": "code",
   "execution_count": 2,
   "id": "7eebbe95",
   "metadata": {},
   "outputs": [],
   "source": [
    "# Expected Output\n",
    "# Masukan nilai anda : 50\n",
    "# Anda Mengulang Mata Kuliah"
   ]
  },
  {
   "cell_type": "code",
   "execution_count": 5,
   "id": "170be42d",
   "metadata": {},
   "outputs": [
    {
     "name": "stdout",
     "output_type": "stream",
     "text": [
      "Tarif parkir mobil untuk 5 jam pertama dikenai Rp5000 perjam setelah 5 jam menjadi Rp4000\n",
      "Tarif parkir motor untuk 5 jam pertama dikenai Rp3000 perjam setelah 5 jam menjadi Rp2000\n",
      "Jenis Kendaraan\n",
      "1. Mobil\n",
      "2. Motor\n",
      "Pilih No. Jenis kendaraan:1\n",
      "Lamanya Kendaraan Diparkirkan...Jam:5\n",
      "\n",
      "Tarif Parkir RP 25000\n"
     ]
    }
   ],
   "source": [
    "# Contoh 2\n",
    "print(\"Tarif parkir mobil untuk 5 jam pertama dikenai Rp5000 perjam setelah 5 jam menjadi Rp4000\")\n",
    "print(\"Tarif parkir motor untuk 5 jam pertama dikenai Rp3000 perjam setelah 5 jam menjadi Rp2000\")\n",
    "\n",
    "mobil=5000\n",
    "motor=3000\n",
    "mobil_setelah5jam=4000\n",
    "motor_setelah5jam=2000\n",
    "\n",
    "print(\"Jenis Kendaraan\")\n",
    "print(\"1. Mobil\")\n",
    "print(\"2. Motor\")\n",
    "kendaraan=str(input(\"Pilih No. Jenis kendaraan:\"))\n",
    "parkir=int(input(\"Lamanya Kendaraan Diparkirkan...Jam:\"))\n",
    "if kendaraan==\"1\":\n",
    "    if parkir>5:\n",
    "        print(\"\\nTarif Parkir RP\",mobil*5+((parkir-5)*mobil_setelah5jam))\n",
    "    else :\n",
    "        print(\"\\nTarif Parkir RP\",parkir*mobil)\n",
    "elif kendaraan==\"2\":\n",
    "    if parkir>5:\n",
    "        print(\"\\nTarif Parkir RP\",motor*5+((parkir-5)*motor_setelah5jam))\n",
    "    else :\n",
    "        print(\"\\nTarif Parkir RP\",parkir*motor)\n",
    "else:\n",
    "    print(\"\\nInput jenis kendaraan salah\")"
   ]
  },
  {
   "cell_type": "code",
   "execution_count": 5,
   "id": "c86c3c3d",
   "metadata": {},
   "outputs": [],
   "source": [
    "# Expected output\n",
    "# Tarif parkir mobil untuk 5 jam pertama dikenai Rp5000 perjam setelah 5 jam menjadi Rp4000\n",
    "# Tarif parkir motor untuk 5 jam pertama dikenai Rp3000 perjam setelah 5 jam menjadi Rp2000\n",
    "# Jenis Kendaraan\n",
    "# 1. Mobil\n",
    "# 2. Motor\n",
    "# Pilih No. Jenis kendaraan:1\n",
    "# Lamanya Kendaraan Diparkirkan...Jam:5\n",
    "\n",
    "# Tarif Parkir RP 25000"
   ]
  },
  {
   "cell_type": "markdown",
   "id": "cb5261e6",
   "metadata": {},
   "source": [
    "### Practicum Assignment\t\n",
    "Answer of `tugas praktikum` in the module"
   ]
  },
  {
   "cell_type": "code",
   "execution_count": 2,
   "id": "bfc8129d",
   "metadata": {},
   "outputs": [
    {
     "name": "stdout",
     "output_type": "stream",
     "text": [
      "Masukkan nilai pertama : 1\n",
      "Masukkan nilai kedua : 2\n",
      "Masukkan nilai ketiga : 3\n",
      "Nilai terbesar adalah nilai-3 \n"
     ]
    }
   ],
   "source": [
    "# Program untuk mencari nilai terbesar dari 3 nilai input\n",
    "# Isilah garis bawah kosong untuk membuat program bekerja\n",
    "\n",
    "nilai_1 = int(input(\"Masukkan nilai pertama : \"))\n",
    "nilai_2 = int(input(\"Masukkan nilai kedua : \"))\n",
    "nilai_3 = int(input(\"Masukkan nilai ketiga : \"))\n",
    "\n",
    "if nilai_1 > nilai_2:\n",
    "  if nilai_1 > nilai_3:\n",
    "    print(\"Nilai terbesar adalah nilai-1 \")\n",
    "  elif nilai_1 < nilai_3:\n",
    "    print(\"Nilai terbesar adalah nilai-3 \")\n",
    "  else:\n",
    "    print(\"Nilai-1 sama besarnya dengan nilai-3 \")\n",
    "elif nilai_1 < nilai_2:\n",
    "  if nilai_2 > nilai_3:\n",
    "    print(\"Nilai terbesar adalah nilai-2 \")\n",
    "  elif nilai_2 < nilai_3:\n",
    "    print(\"Nilai terbesar adalah nilai-3 \")\n",
    "  else:\n",
    "    print(\"Nilai-2 sama besarnya dengan nilai-3\")\n",
    "else:\n",
    "  print(\"Nilai-1 sama besarnya dengan nilai-2\")"
   ]
  },
  {
   "cell_type": "markdown",
   "id": "288f86ed",
   "metadata": {},
   "source": [
    "**Soal 1**\n",
    "\n",
    "Buatlah program kalkulator sederhana menggunakan Python. User akan memasukkan dua buah bilangan riil dan satu buah operator aritmatika (+, -, *, atau /), kemudian program akan mengoperasikan dua bilangan tersebut dengan operator yang sesuai."
   ]
  },
  {
   "cell_type": "code",
   "execution_count": 6,
   "id": "e28a7915",
   "metadata": {},
   "outputs": [
    {
     "name": "stdout",
     "output_type": "stream",
     "text": [
      "Masukkan angka pertama: 10\n",
      "Pilih jenis operator: *\n",
      "Masukkan angka kedua: 5\n",
      "Result:  50.0\n"
     ]
    }
   ],
   "source": [
    "num1 = float(input(\"Masukkan angka pertama: \"))\n",
    "op = input(\"Pilih jenis operator: \")\n",
    "num2 = float(input(\"Masukkan angka kedua: \"))\n",
    "\n",
    "\n",
    "if op == '+':\n",
    "    result = num1 + num2\n",
    "elif op == '-':\n",
    "    result = num1 - num2\n",
    "elif op == '*':\n",
    "    result = num1 * num2\n",
    "elif op == '/':\n",
    "    result = num1 / num2\n",
    "else:\n",
    "    print(\"Invalid arithmetic symbol\")\n",
    "\n",
    "print(\"Result: \", result)\n"
   ]
  },
  {
   "cell_type": "markdown",
   "id": "3457e897",
   "metadata": {},
   "source": [
    "**Soal 2**\n",
    "\n",
    "Toko Karisma menjual pakaian yaitu baju dengan harga Rp55.000 dan celana dengan harga\n",
    "Rp 45.000. Toko Karisma memberikan diskon kepada pembeli dengan ketentuan diskon\n",
    "sebagai berikut jika total pembelian pakaian  Rp 300.000 atau lebih maka mendapatkan diskon\n",
    "sebesar 10% lalu jika pembeli memiliki kartu member diskon ditambah 5% menjadi 15%, jika\n",
    "total pembelian pakaian mencapai Rp 500.000 atau lebih maka diskon sebesar 15% lalu jika\n",
    "pembeli memiliki  kartu member diskon ditambah 5% menjadi 20%, dan Toko karisma masih\n",
    "memberikan diskon walaupun pembelian pakaian dibawah Rp 300.000 jika pembeli memiliki\n",
    "kartu member yaitu sebesar 5%. Buat program agar user mengetahui harga akhir dari\n",
    "pembelian pakaian, dengan hal yang akan di tampilkan\n",
    "\n",
    "if statement from question\n",
    "- if total > 300000 diskon 10% (non member) 15% (member)\n",
    "- if total > 500000 diskon 15% (non member) 20% (member)\n",
    "- if total < 300000 && member diskon 5%"
   ]
  },
  {
   "cell_type": "code",
   "execution_count": 28,
   "id": "bd0c69ec",
   "metadata": {},
   "outputs": [
    {
     "name": "stdout",
     "output_type": "stream",
     "text": [
      "Jumlah baju yang dibeli: 0\n",
      "Jumlah celana yang dibeli: 1\n",
      "Apakah Anda menggunakan kartu member(Y/N): Y\n",
      "Total diskon yang didapatkan: Rp2250.0\n",
      "Harga awal: Rp45000\n",
      "Harga akhir (setelah diskon): Rp42750.0\n"
     ]
    }
   ],
   "source": [
    "Shirt_Price = 55000\n",
    "Pants_Price = 45000\n",
    "\n",
    "Shirt = int(input(\"Jumlah baju yang dibeli: \"))\n",
    "Pants = int(input(\"Jumlah celana yang dibeli: \"))\n",
    "Member = input(\"Apakah Anda menggunakan kartu member(Y/N): \")\n",
    "\n",
    "Normal_Price = (Shirt_Price*Shirt) + (Pants_Price*Pants)\n",
    "\n",
    "# Check if user is a member or not\n",
    "isMember = Member == 'Y' or Member == 'y'\n",
    "\n",
    "if(Normal_Price < 300000 and isMember):\n",
    "\tDisc = 0.05*Normal_Price\n",
    "elif(Normal_Price > 300000):\n",
    "\tif(isMember):\n",
    "\t\tDisc = 0.15*Normal_Price\n",
    "\telif(not isMember):\n",
    "\t\tDisc = 0.10*Normal_Price\n",
    "elif(Normal_Price > 500000):\n",
    "\tif(isMember):\n",
    "\t\tDisc = 0.20*Normal_Price\n",
    "\telif(not isMember):\n",
    "\t\tDisc = 0.15*Normal_Price\n",
    "else:\n",
    "    Disc = 0\n",
    "\n",
    "Disc_Price = Normal_Price - Disc\n",
    "\n",
    "print(f\"Total diskon yang didapatkan: Rp{Disc}\")\n",
    "print(f\"Harga awal: Rp{Normal_Price}\")\n",
    "print(f\"Harga akhir (setelah diskon): Rp{Disc_Price}\")"
   ]
  },
  {
   "cell_type": "code",
   "execution_count": null,
   "id": "5ce9603f",
   "metadata": {},
   "outputs": [],
   "source": []
  }
 ],
 "metadata": {
  "kernelspec": {
   "display_name": "Python 3 (ipykernel)",
   "language": "python",
   "name": "python3"
  },
  "language_info": {
   "codemirror_mode": {
    "name": "ipython",
    "version": 3
   },
   "file_extension": ".py",
   "mimetype": "text/x-python",
   "name": "python",
   "nbconvert_exporter": "python",
   "pygments_lexer": "ipython3",
   "version": "3.9.13"
  }
 },
 "nbformat": 4,
 "nbformat_minor": 5
}
