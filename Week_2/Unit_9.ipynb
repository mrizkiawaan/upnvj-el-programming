{
 "cells": [
  {
   "cell_type": "markdown",
   "id": "93ff3fbc",
   "metadata": {},
   "source": [
    "### Example Section\t\n",
    "Just a copy paste of `contoh` in module"
   ]
  },
  {
   "cell_type": "code",
   "execution_count": 3,
   "id": "49abbd75",
   "metadata": {},
   "outputs": [
    {
     "name": "stdout",
     "output_type": "stream",
     "text": [
      "Masukkan banyak baris : 2\n",
      "Masukkan banyak kolom : 2\n",
      "Masukkan angka : 1\n",
      "Masukkan angka : 2\n",
      "Masukkan angka : 3\n",
      "Masukkan angka : 4\n",
      "[[1, 2], [3, 4]]\n"
     ]
    }
   ],
   "source": [
    "# Contoh 1\n",
    "\n",
    "baris = int(input(\"Masukkan banyak baris : \"))\n",
    "kolom = int(input(\"Masukkan banyak kolom : \"))\n",
    "matriks = []\n",
    "for i in range(baris):\n",
    "\tsementara = []\n",
    "\tfor j in range(kolom): \n",
    "\t\tsementara.append(int(input(f\"Masukkan angka : \"))) \n",
    "\tmatriks.append(sementara) \n",
    "print(matriks)"
   ]
  },
  {
   "cell_type": "code",
   "execution_count": 2,
   "id": "7eebbe95",
   "metadata": {},
   "outputs": [],
   "source": [
    "# Expected Output\n",
    "# Masukkan banyak baris : 2\n",
    "# Masukkan banyak kolom : 2\n",
    "# Masukkan angka : 1\n",
    "# Masukkan angka : 2\n",
    "# Masukkan angka : 3\n",
    "# Masukkan angka : 4\n",
    "# [[1, 2], [3, 4]]"
   ]
  },
  {
   "cell_type": "code",
   "execution_count": 2,
   "id": "170be42d",
   "metadata": {},
   "outputs": [
    {
     "name": "stdout",
     "output_type": "stream",
     "text": [
      "[1, 4, 9, 16, 25, 36, 49, 64, 81, 100]\n"
     ]
    }
   ],
   "source": [
    "# Contoh 2\n",
    "x = [1,2,3,4,5,6,7,8,9,10]\n",
    "y = []\n",
    "for i in x:\n",
    "  #Program untuk menghitung luas fungsi kuadrat y = x^2 \n",
    "  #dengan memetakan nilai x\n",
    "\ty.append(i*i)\n",
    "    \n",
    "print(y)"
   ]
  },
  {
   "cell_type": "code",
   "execution_count": 5,
   "id": "077e1bd8",
   "metadata": {},
   "outputs": [],
   "source": [
    "# Expected output\n",
    "# [1, 4, 9, 16, 25, 36, 49, 64, 81, 100]"
   ]
  },
  {
   "cell_type": "code",
   "execution_count": 4,
   "id": "c86c3c3d",
   "metadata": {},
   "outputs": [
    {
     "name": "stdout",
     "output_type": "stream",
     "text": [
      "Merupakan mahasiswa teknik dengan jurusan TE\n"
     ]
    }
   ],
   "source": [
    "# Contoh 3\n",
    "fakultas_teknik = [\"TE\", \"TI\", \"TM\", \"TP\"]\n",
    "identitas = '''\n",
    "Saya adalah mahasiswa TE dengan NIM 2110314069 angkatan\n",
    "2021\n",
    "'''\n",
    "# Memisahkan teks indentitas ke dalam bentuk list\n",
    "for i in identitas.split():\n",
    "  # Mengurutkan setiap nilai pada List Fakultas Teknik\n",
    "  for j in fakultas_teknik:\n",
    "    if i == j:\n",
    "      # Mengidentifikasi apabilai jurusan mahasiswa ada di dalam jurusan fakultas\n",
    "      print(f\"Merupakan mahasiswa teknik dengan jurusan {i}\")"
   ]
  },
  {
   "cell_type": "code",
   "execution_count": null,
   "id": "14ad3564",
   "metadata": {},
   "outputs": [],
   "source": [
    "# Expected output\n",
    "# Merupakan mahasiswa teknik dengan jurusan TE"
   ]
  },
  {
   "cell_type": "markdown",
   "id": "cb5261e6",
   "metadata": {},
   "source": [
    "### Practicum Assignment\t\n",
    "Answer of `tugas praktikum` in the module"
   ]
  },
  {
   "cell_type": "code",
   "execution_count": 9,
   "id": "bfc8129d",
   "metadata": {},
   "outputs": [
    {
     "name": "stdout",
     "output_type": "stream",
     "text": [
      "Himpunan nilai Y(X) = (x^3) + 1 adalah : [2, 9, 28, 65, 126, 217, 344, 513, 730, 1001] \n"
     ]
    }
   ],
   "source": [
    "# Program Membuat nilai himpunan Y dengan\n",
    "# Memetakan nilai x pada interval [1,10] ke dalam fungsi Y(X) = (x^3) + 1\n",
    "\n",
    "# Membuat list kosong berisi himpunan 1-10\n",
    "x = [ 1, 2, 3, 4, 5, 6, 7, 8, 9, 10]\n",
    "\n",
    "# Membuat list kosong dari Y\n",
    "y = []\n",
    "\n",
    "# Melakukan iterasi terhadap list pada nilai X\n",
    "for nilai_x in x :\n",
    "  # Memasukkan persamaan fungsi\n",
    "  # Memasukkan nilai ke dalam list Y\n",
    "  y.append(pow(nilai_x,3)+1)\n",
    "\n",
    "print(f\"Himpunan nilai Y(X) = (x^3) + 1 adalah : {y} \")"
   ]
  }
 ],
 "metadata": {
  "kernelspec": {
   "display_name": "Python 3 (ipykernel)",
   "language": "python",
   "name": "python3"
  },
  "language_info": {
   "codemirror_mode": {
    "name": "ipython",
    "version": 3
   },
   "file_extension": ".py",
   "mimetype": "text/x-python",
   "name": "python",
   "nbconvert_exporter": "python",
   "pygments_lexer": "ipython3",
   "version": "3.9.13"
  }
 },
 "nbformat": 4,
 "nbformat_minor": 5
}
