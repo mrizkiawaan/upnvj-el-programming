{
 "cells": [
  {
   "cell_type": "markdown",
   "id": "93ff3fbc",
   "metadata": {},
   "source": [
    "### Example Section\t\n",
    "Just a copy paste of `contoh` in module"
   ]
  },
  {
   "cell_type": "code",
   "execution_count": 1,
   "id": "49abbd75",
   "metadata": {},
   "outputs": [
    {
     "name": "stdout",
     "output_type": "stream",
     "text": [
      "Masukkan teks : Saya adalah mahasiswa Teknik Elektro\n",
      "Ada 32 Huruf di dalam teks\n"
     ]
    }
   ],
   "source": [
    "# Contoh 1\n",
    "\n",
    "def menghitung_banyak_huruf(teks):\n",
    "  hitung_huruf = 0\n",
    "  # Mengurutkan setiap huruf pada teks\n",
    "  for huruf in teks:\n",
    "    # Jika spasi tidak dihitung\n",
    "    if huruf != \" \":\n",
    "      # Menghitung setiap huruf\n",
    "      hitung_huruf = hitung_huruf + 1\n",
    "  # Mengubah angka menjadi string untuk dapat di print\n",
    "  return str(hitung_huruf)\n",
    "\n",
    "input_teks = str(input(\"Masukkan teks : \"))\n",
    "print(f\"Ada {menghitung_banyak_huruf(input_teks)} Huruf di dalam teks\")"
   ]
  },
  {
   "cell_type": "code",
   "execution_count": 2,
   "id": "7eebbe95",
   "metadata": {},
   "outputs": [],
   "source": [
    "# Expected Output\n",
    "# Masukkan teks : Saya adalah mahasiswa Teknik Elektro\n",
    "# Ada 32 Huruf di dalam teks"
   ]
  },
  {
   "cell_type": "code",
   "execution_count": 4,
   "id": "170be42d",
   "metadata": {},
   "outputs": [
    {
     "name": "stdout",
     "output_type": "stream",
     "text": [
      "Angka adalah ganjil\n"
     ]
    }
   ],
   "source": [
    "# Contoh 2\n",
    "def genap_atau_ganjil(angka):\n",
    "\tif angka % 2 == 0:\n",
    "\t\treturn \"Angka adalah genap\"\n",
    "\telse:\n",
    "\t\treturn \"Angka adalah ganjil\"\n",
    "\n",
    "print(genap_atau_ganjil(7))"
   ]
  },
  {
   "cell_type": "code",
   "execution_count": 5,
   "id": "077e1bd8",
   "metadata": {},
   "outputs": [],
   "source": [
    "# Expected output\n",
    "# Angka adalah ganjil"
   ]
  },
  {
   "cell_type": "code",
   "execution_count": 8,
   "id": "c86c3c3d",
   "metadata": {},
   "outputs": [
    {
     "name": "stdout",
     "output_type": "stream",
     "text": [
      "Nilai terkecil pada UTS adalah : 55\n"
     ]
    }
   ],
   "source": [
    "# Contoh 3\n",
    "def cari_terkecil(l):\n",
    "\tterkecil = l[0]\n",
    "\tfor idx in range(1,len(l)):\n",
    "\t\tnilai = l[idx]\n",
    "\t\tif nilai < terkecil:\n",
    "\t\t\tterkecil = nilai\n",
    "\treturn terkecil\n",
    "\n",
    "nilai_uts = [90,85,70,55,60,67,86,99,100,72,73]\n",
    "nilai_terkecil = cari_terkecil(nilai_uts)\n",
    "print('Nilai terkecil pada UTS adalah : {}'.format(nilai_terkecil))"
   ]
  },
  {
   "cell_type": "code",
   "execution_count": 9,
   "id": "14ad3564",
   "metadata": {},
   "outputs": [],
   "source": [
    "# Expected output\n",
    "# Nilai terkecil pada UTS adalah : 55"
   ]
  },
  {
   "cell_type": "code",
   "execution_count": 16,
   "id": "a4084205",
   "metadata": {},
   "outputs": [
    {
     "name": "stdout",
     "output_type": "stream",
     "text": [
      "[1, 4, 9, 16, 25, 36, 49]\n"
     ]
    }
   ],
   "source": [
    "# Contoh 4\n",
    "def buat_himpunan_interval(angka_awal, angka_akhir):\n",
    "\thimpunan = []\n",
    "\tfor i in range(angka_awal, angka_akhir + 1):\n",
    "\t\thimpunan.append(i)\n",
    "\treturn himpunan\n",
    "\n",
    "def kuadrat(himpunan):\n",
    "\thasil = []\n",
    "\tfor i in himpunan:\n",
    "\t\thasil.append(i*i)\n",
    "\treturn hasil\n",
    "\n",
    "print(kuadrat(buat_himpunan_interval(1,7)))"
   ]
  },
  {
   "cell_type": "code",
   "execution_count": null,
   "id": "bb350b7f",
   "metadata": {},
   "outputs": [],
   "source": [
    "# Expected output\n",
    "# [1, 4, 9, 16, 25, 36, 49]"
   ]
  },
  {
   "cell_type": "markdown",
   "id": "cb5261e6",
   "metadata": {},
   "source": [
    "### Practicum Assignment\t\n",
    "Answer of `tugas praktikum` in the module"
   ]
  },
  {
   "cell_type": "code",
   "execution_count": 22,
   "id": "bfc8129d",
   "metadata": {},
   "outputs": [
    {
     "name": "stdout",
     "output_type": "stream",
     "text": [
      "Nilai kuadrat fungsi adalah [4, 9, 16, 25, 36, 49, 64]\n"
     ]
    }
   ],
   "source": [
    "# Buat lah suatu fungsi yang dapat membuat fungsi himpunan\n",
    "# dan Fungsi dari Y(x) = x^2 + 2x + 1\n",
    "# Isilah garis bawah untuk membuat program bekerja\n",
    "def buat_himpunan_interval( angka_awal, angka_akhir):\n",
    "\thimpunan = []\n",
    "\tfor i in range(angka_awal, angka_akhir + 1):\n",
    "\t\thimpunan.append(i)\n",
    "\treturn himpunan\n",
    "\n",
    "def hasil_fungsi(himpunan):\n",
    "\thasil = []\n",
    "\tfor i in himpunan:\n",
    "\t\thasil.append(pow(i,2) + 2*i + 1)\n",
    "\treturn hasil\n",
    "\n",
    "print(f\"Nilai kuadrat fungsi adalah { hasil_fungsi(buat_himpunan_interval(1,7)) }\") "
   ]
  },
  {
   "cell_type": "code",
   "execution_count": 23,
   "id": "a6cc8c1e",
   "metadata": {},
   "outputs": [],
   "source": [
    "# Expected output\n",
    "# Nilai kuadrat fungsi adalah [4, 9, 16, 25, 36, 49, 64]"
   ]
  },
  {
   "cell_type": "markdown",
   "id": "ba6ed285",
   "metadata": {},
   "source": [
    "**Tugas unit 10**\n",
    "\n",
    "Buatlah sebuah program untuk menghitung nilai akhir dari seorang mahasiswa. Terdapat 4\n",
    "variabel yang akan user masukkan yaitu nama, tugas, quiz, dan ujian secara berurutan\n",
    "dimana masing-masing dari tugas, quiz dan ujian terdiri dari beberapa nilai sehingga\n",
    "didefinisikan sebagai list yang akan user tentukan sendiri banyak elemennya. Nilai akhir\n",
    "dirumuskan dengan 40% ujian, 35% tugas, dan 25% quiz. Tampilkan juga index huruf dari\n",
    "nilai akhir yang akan program tampilkan bersama dengan nama dan nilai akhir."
   ]
  },
  {
   "cell_type": "code",
   "execution_count": 33,
   "id": "5d1f2209",
   "metadata": {},
   "outputs": [
    {
     "name": "stdout",
     "output_type": "stream",
     "text": [
      "Nama: John Doe\n",
      "Jumlah nilai tugas: 5\n",
      "Jumlah nilai quiz: 3\n",
      "Jumlah nilai ujian: 2\n",
      "\n",
      "Nilai Tugas: \n",
      "Tugas 1: 80\n",
      "Tugas 2: 85\n",
      "Tugas 3: 90\n",
      "Tugas 4: 75\n",
      "Tugas 5: 95\n",
      "\n",
      "Nilai Quiz: \n",
      "Quiz 1: 70\n",
      "Quiz 2: 80\n",
      "Quiz 3: 75\n",
      "\n",
      "Nilai Ujian: \n",
      "Ujian 1: 85\n",
      "Ujian 2: 90\n",
      "\n",
      "Nilai akhir untuk John Doe\n",
      "Nilai tugas: [80, 85, 90, 75, 95]\n",
      "Nilai quiz: [70, 80, 75]\n",
      "Nilai ujian: [85, 90]\n",
      "Nilai akhir: 83.5\n",
      "Index huruf: A\n"
     ]
    }
   ],
   "source": [
    "# fungsi untuk menghitung nilai akhir\n",
    "def hitung_nilai_akhir(ujian, tugas, quiz):\n",
    "    avg_ujian = sum(ujian)/len(ujian)\n",
    "    avg_tugas = sum(tugas)/len(tugas)\n",
    "    avg_quiz = sum(quiz)/len(quiz)\n",
    "    nilai_akhir = 0.4 * avg_ujian + 0.35 * avg_tugas + 0.25 * avg_quiz\n",
    "    return nilai_akhir\n",
    "\n",
    "# fungsi untuk menghitung index nilai\n",
    "def hitung_index_nilai(nilai_akhir):\n",
    "    if nilai_akhir >= 80:\n",
    "        index_nilai = \"A\"\n",
    "    elif nilai_akhir >= 70:\n",
    "        index_nilai = \"B\"\n",
    "    elif nilai_akhir >= 60:\n",
    "        index_nilai = \"C\"\n",
    "    elif nilai_akhir >= 50:\n",
    "        index_nilai = \"D\"\n",
    "    else:\n",
    "        index_nilai = \"E\"\n",
    "    return index_nilai\n",
    "\n",
    "# fungsi untuk melakukan input data\n",
    "def input_data():\n",
    "    nama = input(\"Nama: \")\n",
    "    jumlah_tugas = int(input(\"Jumlah nilai tugas: \"))\n",
    "    jumlah_quiz = int(input(\"Jumlah nilai quiz: \"))\n",
    "    jumlah_ujian = int(input(\"Jumlah nilai ujian: \"))\n",
    "\n",
    "    print(\"\\nNilai Tugas: \")\n",
    "    tugas = []\n",
    "    for i in range(jumlah_tugas):\n",
    "        tugas.append(int(input(f\"Tugas {i+1}: \")))\n",
    "\n",
    "    print(\"\\nNilai Quiz: \") \n",
    "    quiz = []\n",
    "    for i in range(jumlah_quiz):\n",
    "        quiz.append(int(input(f\"Quiz {i+1}: \")))\n",
    "\n",
    "    print(\"\\nNilai Ujian: \")\n",
    "    ujian = []\n",
    "    for i in range(jumlah_ujian):\n",
    "        ujian.append(int(input(f\"Ujian {i+1}: \")))\n",
    "    return nama,tugas,quiz,ujian\n",
    "\n",
    "# Call input_data function\n",
    "input_data()\n",
    "\n",
    "# Hitung nilai akhir dan index huruf\n",
    "nilai_akhir = hitung_nilai_akhir(ujian, tugas, quiz)\n",
    "index_nilai = hitung_index_nilai(nilai_akhir)\n",
    "\n",
    "# Tampilkan hasil\n",
    "print(\"\\nNilai akhir untuk\", nama)\n",
    "print(\"Nilai tugas:\", tugas)\n",
    "print(\"Nilai quiz:\", quiz)\n",
    "print(\"Nilai ujian:\", ujian)\n",
    "print(\"Nilai akhir:\", nilai_akhir)\n",
    "print(\"Index huruf:\", index_nilai)\n"
   ]
  },
  {
   "cell_type": "markdown",
   "id": "a5434ffb",
   "metadata": {},
   "source": [
    "**Separate program above into some cell**"
   ]
  },
  {
   "cell_type": "code",
   "execution_count": 34,
   "id": "76b0a47a",
   "metadata": {},
   "outputs": [],
   "source": [
    "# fungsi untuk menghitung nilai akhir\n",
    "def hitung_nilai_akhir(ujian, tugas, quiz):\n",
    "    avg_ujian = sum(ujian)/len(ujian)\n",
    "    avg_tugas = sum(tugas)/len(tugas)\n",
    "    avg_quiz = sum(quiz)/len(quiz)\n",
    "    nilai_akhir = 0.4 * avg_ujian + 0.35 * avg_tugas + 0.25 * avg_quiz\n",
    "    return nilai_akhir"
   ]
  },
  {
   "cell_type": "code",
   "execution_count": 35,
   "id": "da5748bf",
   "metadata": {},
   "outputs": [],
   "source": [
    "# fungsi untuk menghitung index nilai\n",
    "def hitung_index_nilai(nilai_akhir):\n",
    "    if nilai_akhir >= 80:\n",
    "        index_nilai = \"A\"\n",
    "    elif nilai_akhir >= 70:\n",
    "        index_nilai = \"B\"\n",
    "    elif nilai_akhir >= 60:\n",
    "        index_nilai = \"C\"\n",
    "    elif nilai_akhir >= 50:\n",
    "        index_nilai = \"D\"\n",
    "    else:\n",
    "        index_nilai = \"E\"\n",
    "    return index_nilai"
   ]
  },
  {
   "cell_type": "code",
   "execution_count": 36,
   "id": "3b6091c2",
   "metadata": {},
   "outputs": [],
   "source": [
    "# fungsi untuk melakukan input data\n",
    "def input_data():\n",
    "    nama = input(\"Nama: \")\n",
    "    jumlah_tugas = int(input(\"Jumlah nilai tugas: \"))\n",
    "    jumlah_quiz = int(input(\"Jumlah nilai quiz: \"))\n",
    "    jumlah_ujian = int(input(\"Jumlah nilai ujian: \"))\n",
    "\n",
    "    print(\"\\nNilai Tugas: \")\n",
    "    tugas = []\n",
    "    for i in range(jumlah_tugas):\n",
    "        tugas.append(int(input(f\"Tugas {i+1}: \")))\n",
    "\n",
    "    print(\"\\nNilai Quiz: \") \n",
    "    quiz = []\n",
    "    for i in range(jumlah_quiz):\n",
    "        quiz.append(int(input(f\"Quiz {i+1}: \")))\n",
    "\n",
    "    print(\"\\nNilai Ujian: \")\n",
    "    ujian = []\n",
    "    for i in range(jumlah_ujian):\n",
    "        ujian.append(int(input(f\"Ujian {i+1}: \")))\n",
    "    return nama,tugas,quiz,ujian"
   ]
  },
  {
   "cell_type": "code",
   "execution_count": null,
   "id": "6123e5fd",
   "metadata": {
    "scrolled": true
   },
   "outputs": [],
   "source": [
    "# Call input_data function\n",
    "input_data()\n",
    "\n",
    "# Hitung nilai akhir dan index huruf\n",
    "nilai_akhir = hitung_nilai_akhir(ujian, tugas, quiz)\n",
    "index_nilai = hitung_index_nilai(nilai_akhir)\n",
    "\n",
    "# Tampilkan hasil\n",
    "print(\"\\nNilai akhir untuk\", nama)\n",
    "print(\"Nilai tugas:\", tugas)\n",
    "print(\"Nilai quiz:\", quiz)\n",
    "print(\"Nilai ujian:\", ujian)\n",
    "print(\"Nilai akhir:\", nilai_akhir)\n",
    "print(\"Index huruf:\", index_nilai)"
   ]
  },
  {
   "cell_type": "code",
   "execution_count": null,
   "id": "00592523",
   "metadata": {},
   "outputs": [],
   "source": []
  }
 ],
 "metadata": {
  "kernelspec": {
   "display_name": "Python 3 (ipykernel)",
   "language": "python",
   "name": "python3"
  },
  "language_info": {
   "codemirror_mode": {
    "name": "ipython",
    "version": 3
   },
   "file_extension": ".py",
   "mimetype": "text/x-python",
   "name": "python",
   "nbconvert_exporter": "python",
   "pygments_lexer": "ipython3",
   "version": "3.9.13"
  }
 },
 "nbformat": 4,
 "nbformat_minor": 5
}
